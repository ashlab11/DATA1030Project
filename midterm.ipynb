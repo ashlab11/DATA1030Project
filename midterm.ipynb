{
 "cells": [
  {
   "cell_type": "code",
   "execution_count": 44,
   "metadata": {},
   "outputs": [],
   "source": [
    "import pandas as pd\n",
    "import numpy as np\n",
    "\n",
    "malpractice = pd.read_csv(\"medicalMalpractice.csv\")"
   ]
  },
  {
   "cell_type": "markdown",
   "metadata": {},
   "source": [
    "First, I'm going to do some EDA on the dataset"
   ]
  },
  {
   "cell_type": "code",
   "execution_count": 45,
   "metadata": {},
   "outputs": [
    {
     "name": "stdout",
     "output_type": "stream",
     "text": [
      "count     79210.000000\n",
      "mean     157484.554816\n",
      "std      193135.093293\n",
      "min        1576.000000\n",
      "25%       43670.250000\n",
      "50%       98131.000000\n",
      "75%      154675.250000\n",
      "max      926411.000000\n",
      "Name: Amount, dtype: float64\n",
      "Age\n",
      "43    1439\n",
      "48    1418\n",
      "47    1405\n",
      "50    1395\n",
      "44    1389\n",
      "      ... \n",
      "84     142\n",
      "85     134\n",
      "86     121\n",
      "1       97\n",
      "0       89\n",
      "Name: count, Length: 88, dtype: int64\n",
      "Gender\n",
      "Female    47770\n",
      "Male      31440\n",
      "Name: count, dtype: int64\n",
      "Insurance\n",
      "Private                 34289\n",
      "Unknown                 24052\n",
      "Medicare/Medicaid       10882\n",
      "No Insurance             8002\n",
      "Workers Compensation     1985\n",
      "Name: count, dtype: int64\n",
      "Marital Status\n",
      "2    41220\n",
      "1    22802\n",
      "4    10362\n",
      "0     3832\n",
      "3      994\n",
      "Name: count, dtype: int64\n",
      "Private Attorney\n",
      "1    52349\n",
      "0    26861\n",
      "Name: count, dtype: int64\n",
      "Severity\n",
      "3    28251\n",
      "4    15709\n",
      "5     9615\n",
      "7     8873\n",
      "9     7755\n",
      "8     3627\n",
      "6     3375\n",
      "2     1340\n",
      "1      665\n",
      "Name: count, dtype: int64\n",
      "Specialty\n",
      "Family Practice           11436\n",
      "General Surgery            9412\n",
      "OBGYN                      8876\n",
      "Anesthesiology             8732\n",
      "Orthopedic Surgery         7272\n",
      "Internal Medicine          5223\n",
      "Neurology/Neurosurgery     4737\n",
      "Emergency Medicine         4676\n",
      "Ophthamology               3289\n",
      "Cardiology                 2659\n",
      "Urological Surgery         2027\n",
      "Resident                   1983\n",
      "Radiology                  1979\n",
      "Pediatrics                 1416\n",
      "Dermatology                1384\n",
      "Plastic Surgeon            1364\n",
      "Occupational Medicine       725\n",
      "Pathology                   714\n",
      "Thoracic Surgery            664\n",
      "Physical Medicine           642\n",
      "Name: count, dtype: int64\n"
     ]
    }
   ],
   "source": [
    "print(malpractice['Amount'].describe())\n",
    "print(malpractice['Age'].value_counts())\n",
    "print(malpractice['Gender'].value_counts())\n",
    "print(malpractice['Insurance'].value_counts())\n",
    "print(malpractice['Marital Status'].value_counts())\n",
    "print(malpractice['Private Attorney'].value_counts())\n",
    "print(malpractice['Severity'].value_counts())\n",
    "print(malpractice['Specialty'].value_counts())\n"
   ]
  },
  {
   "cell_type": "code",
   "execution_count": 46,
   "metadata": {},
   "outputs": [
    {
     "data": {
      "image/png": "[encoded data removed]",
      "text/plain": [
       "<Figure size 500x300 with 1 Axes>"
      ]
     },
     "metadata": {},
     "output_type": "display_data"
    },
    {
     "data": {
      "image/png": "[encoded data removed]",
      "text/plain": [
       "<Figure size 500x300 with 1 Axes>"
      ]
     },
     "metadata": {},
     "output_type": "display_data"
    }
   ],
   "source": [
    "import matplotlib.pyplot as plt\n",
    "\n",
    "plt.figure(figsize=(5, 3))\n",
    "plt.hist(malpractice['Amount'], bins = np.int16(np.sqrt(len(malpractice))))\n",
    "plt.show()\n",
    "\n",
    "plt.figure(figsize=(5, 3))\n",
    "plt.hist(np.log(malpractice['Amount']), bins = np.int16(np.sqrt(len(malpractice))))\n",
    "plt.show()\n",
    "\n"
   ]
  },
  {
   "cell_type": "markdown",
   "metadata": {},
   "source": [
    "## Notes from EDA\n",
    "\n",
    "Insurance and Marital Status both have missing values \n",
    "\n",
    "Amount is bimodal, with most between 0 and 200k but then some others having suits from 200k to 900k\n",
    "\n",
    "Two different theoretical projects:\n",
    "1. Predicting suit price by regression\n",
    "2. Predicting whether a suit will be for more than 200k by classification"
   ]
  },
  {
   "cell_type": "markdown",
   "metadata": {},
   "source": [
    "Now, I'm dealing with some of the errors I found during EDA:\n",
    "- Changing marital status and private attorney from numbers to words describing the status\n",
    "- Changing \"unknown\" to np.NaN so I can work with missing values"
   ]
  },
  {
   "cell_type": "code",
   "execution_count": 47,
   "metadata": {},
   "outputs": [],
   "source": [
    "malpractice.loc[malpractice['Insurance'] == \"Unknown\", \"Insurance\"] = np.NaN\n",
    "malpractice.loc[malpractice['Marital Status'] == 0, \"Marital Status\"] = \"Divorced\"\n",
    "malpractice.loc[malpractice['Marital Status'] == 1, \"Marital Status\"] = \"Single\"\n",
    "malpractice.loc[malpractice['Marital Status'] == 2, \"Marital Status\"] = \"Married\"\n",
    "malpractice.loc[malpractice['Marital Status'] == 3, \"Marital Status\"] = \"Widowed\"\n",
    "malpractice.loc[malpractice['Marital Status'] == 4, \"Marital Status\"] = np.NaN\n",
    "malpractice.loc[malpractice['Private Attorney'] == 0, \"Private Attorney\"] = \"Not Private\"\n",
    "malpractice.loc[malpractice['Private Attorney'] == 1, \"Private Attorney\"] = \"Private\""
   ]
  },
  {
   "cell_type": "markdown",
   "metadata": {},
   "source": [
    "Now, I'm going to split up the data. I want to guess whether a medical malpractice suit is going to cost more or less than $250k"
   ]
  },
  {
   "cell_type": "code",
   "execution_count": 57,
   "metadata": {},
   "outputs": [
    {
     "name": "stdout",
     "output_type": "stream",
     "text": [
      "0.14385809872490848\n"
     ]
    }
   ],
   "source": [
    "from sklearn.model_selection import train_test_split\n",
    "random_state = 42\n",
    "\n",
    "X = malpractice.drop(columns='Amount')\n",
    "y = malpractice['Amount'].copy()\n",
    "y[y <= 250000] = 0\n",
    "y[y > 250000] = 1\n",
    "\n",
    "X_train, X_other, y_train, y_other = train_test_split(X, y, train_size = 0.6, stratify=y, random_state=random_state)\n",
    "X_val, X_test, y_val, y_test = train_test_split(X_other, y_other, train_size=0.5, stratify=y_other, random_state=random_state)"
   ]
  }
 ],
 "metadata": {
  "kernelspec": {
   "display_name": "data1030",
   "language": "python",
   "name": "python3"
  },
  "language_info": {
   "codemirror_mode": {
    "name": "ipython",
    "version": 3
   },
   "file_extension": ".py",
   "mimetype": "text/x-python",
   "name": "python",
   "nbconvert_exporter": "python",
   "pygments_lexer": "ipython3",
   "version": "3.11.4"
  },
  "orig_nbformat": 4
 },
 "nbformat": 4,
 "nbformat_minor": 2
}
